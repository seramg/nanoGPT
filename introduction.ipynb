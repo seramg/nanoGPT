{
 "cells": [
  {
   "cell_type": "markdown",
   "metadata": {},
   "source": [
    "## INTRODUCTION"
   ]
  },
  {
   "cell_type": "markdown",
   "metadata": {},
   "source": [
    "ChatGPT is a system that allows you to interacy with an AI and give it text based tasks. It goes from left to right creating answers for your queries sort of sequentially. \n",
    "\n",
    "ChatGPT is also a _probabilistic system_ and give multiple answers for the same question with a tweak in it, in a way to reply to our answers.\n",
    "\n",
    "This is nothing but a **language model**.\n",
    "<br>\n",
    "- It models a sequence of words or characters or tokens and it knows how sort of words follows each other in English language.\n",
    "<br>\n",
    "- So its basically completing a sequence where I gave a start of a sequence and it completes the sequence with the outcome.\n",
    "<br>\n",
    "- The sequence is generated token by token, kind of like little subword pieces like word chunk level \n",
    "\n",
    "A research paper called [Attention is all you need ](https://arxiv.org/pdf/1706.03762) in 2017 forms the basis of this ChatGPT. It was a landmark paper in AI that produced and proposed the Transformer architecture.\n",
    "\n",
    "<center>GPT  =  Generatively pre-trained Transformer.</center>\n",
    "\n",
    "Transformer is the neural net that does all the things under the hood.\n",
    "\n",
    "_The paper looks like a machine translation paper, but this architecture went on to take the rest of the AI and with minor tweaks and changes, the architecture was copied and pasted into a huge amount of applications in AI including ChatGPT._"
   ]
  },
  {
   "cell_type": "markdown",
   "metadata": {},
   "source": [
    "### TRAIN A TRANSFORMER BASED LANGUAGE MODEL \n",
    "on a character level language model"
   ]
  },
  {
   "cell_type": "markdown",
   "metadata": {},
   "source": [
    "We will be working on input.txt which is actually called tiny Shakespeare since it contains the concatenation of all of the works of Shakespeare\n",
    "\n",
    "> **Objective**<br>\n",
    "<br>Model how these characters follow each other given a chunk of characters in the past. The Transformer neural network looks into the characters that I have highlighted and is going to predict that a particular character say _g_ is likely to come next in the sequence.<br><br>\n",
    "It will try producing character sequences that mimics the tiny Shakespeare and in the process is going to model all the patterns inside the data\n"
   ]
  },
  {
   "cell_type": "markdown",
   "metadata": {},
   "source": []
  }
 ],
 "metadata": {
  "language_info": {
   "name": "python"
  }
 },
 "nbformat": 4,
 "nbformat_minor": 2
}
